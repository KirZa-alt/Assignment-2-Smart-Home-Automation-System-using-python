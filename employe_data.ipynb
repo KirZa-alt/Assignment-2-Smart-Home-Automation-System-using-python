{
  "nbformat": 4,
  "nbformat_minor": 0,
  "metadata": {
    "colab": {
      "provenance": [],
      "include_colab_link": true
    },
    "kernelspec": {
      "name": "python3",
      "display_name": "Python 3"
    },
    "language_info": {
      "name": "python"
    }
  },
  "cells": [
    {
      "cell_type": "markdown",
      "metadata": {
        "id": "view-in-github",
        "colab_type": "text"
      },
      "source": [
        "<a href=\"https://colab.research.google.com/github/KirZa-alt/Assignment-2-Smart-Home-Automation-System-using-python/blob/main/employe_data.ipynb\" target=\"_parent\"><img src=\"https://colab.research.google.com/assets/colab-badge.svg\" alt=\"Open In Colab\"/></a>"
      ]
    },
    {
      "cell_type": "code",
      "source": [
        "# Define empty dictionary\n",
        "empty_dict = {}\n",
        "\n",
        "# Define employee 1 with nested data structure\n",
        "employee_1 = {\n",
        "    \"employee_id\": 1,\n",
        "    \"employee_name\": \"uzma\",\n",
        "    \"employee_skills\": [\"python\", \"java\", \"c++\"],\n",
        "    \"employee_salary\": 2000000,\n",
        "    \"designation\": \"engineer\",\n",
        "    \"department\": \"software engineering\",\n",
        "    \"experience\": [\n",
        "{\n",
        "            \"company-id\": 1,\n",
        "            \"designation\": \"manager\",\n",
        "            \"salary\": 5000000,\n",
        "            \"skills\": [\"python\", \"java\", \"c++\"]\n",
        "        },\n",
        "        {\n",
        "            \"company-id\": 2,\n",
        "            \"designation\": \"engineer\",\n",
        "            \"salary\": 2000000,\n",
        "            \"skills\": [\"python\", \"java\", \"c++\"]\n",
        "        }\n",
        "    ]\n",
        "}"
      ],
      "metadata": {
        "id": "C1eAFa3_MSsz"
      },
      "execution_count": null,
      "outputs": []
    },
    {
      "cell_type": "code",
      "source": [],
      "metadata": {
        "id": "izq8Qe07uipJ"
      },
      "execution_count": null,
      "outputs": []
    },
    {
      "cell_type": "code",
      "source": [],
      "metadata": {
        "id": "4ZETNQ1KujJm"
      },
      "execution_count": null,
      "outputs": []
    },
    {
      "cell_type": "code",
      "source": [
        "employee_1"
      ],
      "metadata": {
        "colab": {
          "base_uri": "https://localhost:8080/"
        },
        "id": "-hBLFoR7MgtN",
        "outputId": "688d999a-ce7e-45fb-994c-37a04571609e"
      },
      "execution_count": null,
      "outputs": [
        {
          "output_type": "execute_result",
          "data": {
            "text/plain": [
              "{'employee_id': 1,\n",
              " 'employee_name': 'uzma',\n",
              " 'employee_skills': ['python', 'java', 'c++'],\n",
              " 'employee_salary': 2000000,\n",
              " 'designation': 'engineer',\n",
              " 'department': 'software engineering',\n",
              " 'experience': [{'company-id': 1,\n",
              "   'designation': 'manager',\n",
              "   'salary': 5000000,\n",
              "   'skills': ['python', 'java', 'c++']},\n",
              "  {'company-id': 2,\n",
              "   'designation': 'engineer',\n",
              "   'salary': 2000000,\n",
              "   'skills': ['python', 'java', 'c++']}]}"
            ]
          },
          "metadata": {},
          "execution_count": 8
        }
      ]
    }
  ]
}